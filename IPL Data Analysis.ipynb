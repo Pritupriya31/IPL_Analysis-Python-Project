{
 "cells": [
  {
   "cell_type": "code",
   "execution_count": 1,
   "id": "c204de5c",
   "metadata": {},
   "outputs": [],
   "source": [
    "#import libraries\n",
    "import pandas as pd\n",
    "import seaborn as sns\n",
    "import matplotlib.pyplot as plt"
   ]
  },
  {
   "cell_type": "markdown",
   "id": "7c7cc6eb",
   "metadata": {},
   "source": [
    "# Data Overview"
   ]
  },
  {
   "cell_type": "code",
   "execution_count": 2,
   "id": "5f6f54aa",
   "metadata": {
    "scrolled": true
   },
   "outputs": [
    {
     "data": {
      "text/html": [
       "<div>\n",
       "<style scoped>\n",
       "    .dataframe tbody tr th:only-of-type {\n",
       "        vertical-align: middle;\n",
       "    }\n",
       "\n",
       "    .dataframe tbody tr th {\n",
       "        vertical-align: top;\n",
       "    }\n",
       "\n",
       "    .dataframe thead th {\n",
       "        text-align: right;\n",
       "    }\n",
       "</style>\n",
       "<table border=\"1\" class=\"dataframe\">\n",
       "  <thead>\n",
       "    <tr style=\"text-align: right;\">\n",
       "      <th></th>\n",
       "      <th>match_id</th>\n",
       "      <th>inning</th>\n",
       "      <th>batting_team</th>\n",
       "      <th>bowling_team</th>\n",
       "      <th>over</th>\n",
       "      <th>ball</th>\n",
       "      <th>batsman</th>\n",
       "      <th>non_striker</th>\n",
       "      <th>bowler</th>\n",
       "      <th>is_super_over</th>\n",
       "      <th>...</th>\n",
       "      <th>bye_runs</th>\n",
       "      <th>legbye_runs</th>\n",
       "      <th>noball_runs</th>\n",
       "      <th>penalty_runs</th>\n",
       "      <th>batsman_runs</th>\n",
       "      <th>extra_runs</th>\n",
       "      <th>total_runs</th>\n",
       "      <th>player_dismissed</th>\n",
       "      <th>dismissal_kind</th>\n",
       "      <th>fielder</th>\n",
       "    </tr>\n",
       "  </thead>\n",
       "  <tbody>\n",
       "    <tr>\n",
       "      <th>0</th>\n",
       "      <td>1</td>\n",
       "      <td>1</td>\n",
       "      <td>Sunrisers Hyderabad</td>\n",
       "      <td>Royal Challengers Bangalore</td>\n",
       "      <td>1</td>\n",
       "      <td>1</td>\n",
       "      <td>DA Warner</td>\n",
       "      <td>S Dhawan</td>\n",
       "      <td>TS Mills</td>\n",
       "      <td>0</td>\n",
       "      <td>...</td>\n",
       "      <td>0</td>\n",
       "      <td>0</td>\n",
       "      <td>0</td>\n",
       "      <td>0</td>\n",
       "      <td>0</td>\n",
       "      <td>0</td>\n",
       "      <td>0</td>\n",
       "      <td>NaN</td>\n",
       "      <td>NaN</td>\n",
       "      <td>NaN</td>\n",
       "    </tr>\n",
       "    <tr>\n",
       "      <th>1</th>\n",
       "      <td>1</td>\n",
       "      <td>1</td>\n",
       "      <td>Sunrisers Hyderabad</td>\n",
       "      <td>Royal Challengers Bangalore</td>\n",
       "      <td>1</td>\n",
       "      <td>2</td>\n",
       "      <td>DA Warner</td>\n",
       "      <td>S Dhawan</td>\n",
       "      <td>TS Mills</td>\n",
       "      <td>0</td>\n",
       "      <td>...</td>\n",
       "      <td>0</td>\n",
       "      <td>0</td>\n",
       "      <td>0</td>\n",
       "      <td>0</td>\n",
       "      <td>0</td>\n",
       "      <td>0</td>\n",
       "      <td>0</td>\n",
       "      <td>NaN</td>\n",
       "      <td>NaN</td>\n",
       "      <td>NaN</td>\n",
       "    </tr>\n",
       "    <tr>\n",
       "      <th>2</th>\n",
       "      <td>1</td>\n",
       "      <td>1</td>\n",
       "      <td>Sunrisers Hyderabad</td>\n",
       "      <td>Royal Challengers Bangalore</td>\n",
       "      <td>1</td>\n",
       "      <td>3</td>\n",
       "      <td>DA Warner</td>\n",
       "      <td>S Dhawan</td>\n",
       "      <td>TS Mills</td>\n",
       "      <td>0</td>\n",
       "      <td>...</td>\n",
       "      <td>0</td>\n",
       "      <td>0</td>\n",
       "      <td>0</td>\n",
       "      <td>0</td>\n",
       "      <td>4</td>\n",
       "      <td>0</td>\n",
       "      <td>4</td>\n",
       "      <td>NaN</td>\n",
       "      <td>NaN</td>\n",
       "      <td>NaN</td>\n",
       "    </tr>\n",
       "    <tr>\n",
       "      <th>3</th>\n",
       "      <td>1</td>\n",
       "      <td>1</td>\n",
       "      <td>Sunrisers Hyderabad</td>\n",
       "      <td>Royal Challengers Bangalore</td>\n",
       "      <td>1</td>\n",
       "      <td>4</td>\n",
       "      <td>DA Warner</td>\n",
       "      <td>S Dhawan</td>\n",
       "      <td>TS Mills</td>\n",
       "      <td>0</td>\n",
       "      <td>...</td>\n",
       "      <td>0</td>\n",
       "      <td>0</td>\n",
       "      <td>0</td>\n",
       "      <td>0</td>\n",
       "      <td>0</td>\n",
       "      <td>0</td>\n",
       "      <td>0</td>\n",
       "      <td>NaN</td>\n",
       "      <td>NaN</td>\n",
       "      <td>NaN</td>\n",
       "    </tr>\n",
       "    <tr>\n",
       "      <th>4</th>\n",
       "      <td>1</td>\n",
       "      <td>1</td>\n",
       "      <td>Sunrisers Hyderabad</td>\n",
       "      <td>Royal Challengers Bangalore</td>\n",
       "      <td>1</td>\n",
       "      <td>5</td>\n",
       "      <td>DA Warner</td>\n",
       "      <td>S Dhawan</td>\n",
       "      <td>TS Mills</td>\n",
       "      <td>0</td>\n",
       "      <td>...</td>\n",
       "      <td>0</td>\n",
       "      <td>0</td>\n",
       "      <td>0</td>\n",
       "      <td>0</td>\n",
       "      <td>0</td>\n",
       "      <td>2</td>\n",
       "      <td>2</td>\n",
       "      <td>NaN</td>\n",
       "      <td>NaN</td>\n",
       "      <td>NaN</td>\n",
       "    </tr>\n",
       "    <tr>\n",
       "      <th>...</th>\n",
       "      <td>...</td>\n",
       "      <td>...</td>\n",
       "      <td>...</td>\n",
       "      <td>...</td>\n",
       "      <td>...</td>\n",
       "      <td>...</td>\n",
       "      <td>...</td>\n",
       "      <td>...</td>\n",
       "      <td>...</td>\n",
       "      <td>...</td>\n",
       "      <td>...</td>\n",
       "      <td>...</td>\n",
       "      <td>...</td>\n",
       "      <td>...</td>\n",
       "      <td>...</td>\n",
       "      <td>...</td>\n",
       "      <td>...</td>\n",
       "      <td>...</td>\n",
       "      <td>...</td>\n",
       "      <td>...</td>\n",
       "      <td>...</td>\n",
       "    </tr>\n",
       "    <tr>\n",
       "      <th>150455</th>\n",
       "      <td>636</td>\n",
       "      <td>2</td>\n",
       "      <td>Royal Challengers Bangalore</td>\n",
       "      <td>Sunrisers Hyderabad</td>\n",
       "      <td>20</td>\n",
       "      <td>2</td>\n",
       "      <td>Sachin Baby</td>\n",
       "      <td>CJ Jordan</td>\n",
       "      <td>B Kumar</td>\n",
       "      <td>0</td>\n",
       "      <td>...</td>\n",
       "      <td>0</td>\n",
       "      <td>0</td>\n",
       "      <td>0</td>\n",
       "      <td>0</td>\n",
       "      <td>2</td>\n",
       "      <td>0</td>\n",
       "      <td>2</td>\n",
       "      <td>NaN</td>\n",
       "      <td>NaN</td>\n",
       "      <td>NaN</td>\n",
       "    </tr>\n",
       "    <tr>\n",
       "      <th>150456</th>\n",
       "      <td>636</td>\n",
       "      <td>2</td>\n",
       "      <td>Royal Challengers Bangalore</td>\n",
       "      <td>Sunrisers Hyderabad</td>\n",
       "      <td>20</td>\n",
       "      <td>3</td>\n",
       "      <td>Sachin Baby</td>\n",
       "      <td>CJ Jordan</td>\n",
       "      <td>B Kumar</td>\n",
       "      <td>0</td>\n",
       "      <td>...</td>\n",
       "      <td>0</td>\n",
       "      <td>0</td>\n",
       "      <td>0</td>\n",
       "      <td>0</td>\n",
       "      <td>0</td>\n",
       "      <td>0</td>\n",
       "      <td>0</td>\n",
       "      <td>CJ Jordan</td>\n",
       "      <td>run out</td>\n",
       "      <td>NV Ojha</td>\n",
       "    </tr>\n",
       "    <tr>\n",
       "      <th>150457</th>\n",
       "      <td>636</td>\n",
       "      <td>2</td>\n",
       "      <td>Royal Challengers Bangalore</td>\n",
       "      <td>Sunrisers Hyderabad</td>\n",
       "      <td>20</td>\n",
       "      <td>4</td>\n",
       "      <td>Iqbal Abdulla</td>\n",
       "      <td>Sachin Baby</td>\n",
       "      <td>B Kumar</td>\n",
       "      <td>0</td>\n",
       "      <td>...</td>\n",
       "      <td>0</td>\n",
       "      <td>1</td>\n",
       "      <td>0</td>\n",
       "      <td>0</td>\n",
       "      <td>0</td>\n",
       "      <td>1</td>\n",
       "      <td>1</td>\n",
       "      <td>NaN</td>\n",
       "      <td>NaN</td>\n",
       "      <td>NaN</td>\n",
       "    </tr>\n",
       "    <tr>\n",
       "      <th>150458</th>\n",
       "      <td>636</td>\n",
       "      <td>2</td>\n",
       "      <td>Royal Challengers Bangalore</td>\n",
       "      <td>Sunrisers Hyderabad</td>\n",
       "      <td>20</td>\n",
       "      <td>5</td>\n",
       "      <td>Sachin Baby</td>\n",
       "      <td>Iqbal Abdulla</td>\n",
       "      <td>B Kumar</td>\n",
       "      <td>0</td>\n",
       "      <td>...</td>\n",
       "      <td>0</td>\n",
       "      <td>0</td>\n",
       "      <td>0</td>\n",
       "      <td>0</td>\n",
       "      <td>1</td>\n",
       "      <td>0</td>\n",
       "      <td>1</td>\n",
       "      <td>NaN</td>\n",
       "      <td>NaN</td>\n",
       "      <td>NaN</td>\n",
       "    </tr>\n",
       "    <tr>\n",
       "      <th>150459</th>\n",
       "      <td>636</td>\n",
       "      <td>2</td>\n",
       "      <td>Royal Challengers Bangalore</td>\n",
       "      <td>Sunrisers Hyderabad</td>\n",
       "      <td>20</td>\n",
       "      <td>6</td>\n",
       "      <td>Iqbal Abdulla</td>\n",
       "      <td>Sachin Baby</td>\n",
       "      <td>B Kumar</td>\n",
       "      <td>0</td>\n",
       "      <td>...</td>\n",
       "      <td>0</td>\n",
       "      <td>0</td>\n",
       "      <td>0</td>\n",
       "      <td>0</td>\n",
       "      <td>4</td>\n",
       "      <td>0</td>\n",
       "      <td>4</td>\n",
       "      <td>NaN</td>\n",
       "      <td>NaN</td>\n",
       "      <td>NaN</td>\n",
       "    </tr>\n",
       "  </tbody>\n",
       "</table>\n",
       "<p>150460 rows × 21 columns</p>\n",
       "</div>"
      ],
      "text/plain": [
       "        match_id  inning                 batting_team  \\\n",
       "0              1       1          Sunrisers Hyderabad   \n",
       "1              1       1          Sunrisers Hyderabad   \n",
       "2              1       1          Sunrisers Hyderabad   \n",
       "3              1       1          Sunrisers Hyderabad   \n",
       "4              1       1          Sunrisers Hyderabad   \n",
       "...          ...     ...                          ...   \n",
       "150455       636       2  Royal Challengers Bangalore   \n",
       "150456       636       2  Royal Challengers Bangalore   \n",
       "150457       636       2  Royal Challengers Bangalore   \n",
       "150458       636       2  Royal Challengers Bangalore   \n",
       "150459       636       2  Royal Challengers Bangalore   \n",
       "\n",
       "                       bowling_team  over  ball        batsman    non_striker  \\\n",
       "0       Royal Challengers Bangalore     1     1      DA Warner       S Dhawan   \n",
       "1       Royal Challengers Bangalore     1     2      DA Warner       S Dhawan   \n",
       "2       Royal Challengers Bangalore     1     3      DA Warner       S Dhawan   \n",
       "3       Royal Challengers Bangalore     1     4      DA Warner       S Dhawan   \n",
       "4       Royal Challengers Bangalore     1     5      DA Warner       S Dhawan   \n",
       "...                             ...   ...   ...            ...            ...   \n",
       "150455          Sunrisers Hyderabad    20     2    Sachin Baby      CJ Jordan   \n",
       "150456          Sunrisers Hyderabad    20     3    Sachin Baby      CJ Jordan   \n",
       "150457          Sunrisers Hyderabad    20     4  Iqbal Abdulla    Sachin Baby   \n",
       "150458          Sunrisers Hyderabad    20     5    Sachin Baby  Iqbal Abdulla   \n",
       "150459          Sunrisers Hyderabad    20     6  Iqbal Abdulla    Sachin Baby   \n",
       "\n",
       "          bowler  is_super_over  ...  bye_runs  legbye_runs  noball_runs  \\\n",
       "0       TS Mills              0  ...         0            0            0   \n",
       "1       TS Mills              0  ...         0            0            0   \n",
       "2       TS Mills              0  ...         0            0            0   \n",
       "3       TS Mills              0  ...         0            0            0   \n",
       "4       TS Mills              0  ...         0            0            0   \n",
       "...          ...            ...  ...       ...          ...          ...   \n",
       "150455   B Kumar              0  ...         0            0            0   \n",
       "150456   B Kumar              0  ...         0            0            0   \n",
       "150457   B Kumar              0  ...         0            1            0   \n",
       "150458   B Kumar              0  ...         0            0            0   \n",
       "150459   B Kumar              0  ...         0            0            0   \n",
       "\n",
       "        penalty_runs  batsman_runs  extra_runs  total_runs  player_dismissed  \\\n",
       "0                  0             0           0           0               NaN   \n",
       "1                  0             0           0           0               NaN   \n",
       "2                  0             4           0           4               NaN   \n",
       "3                  0             0           0           0               NaN   \n",
       "4                  0             0           2           2               NaN   \n",
       "...              ...           ...         ...         ...               ...   \n",
       "150455             0             2           0           2               NaN   \n",
       "150456             0             0           0           0         CJ Jordan   \n",
       "150457             0             0           1           1               NaN   \n",
       "150458             0             1           0           1               NaN   \n",
       "150459             0             4           0           4               NaN   \n",
       "\n",
       "       dismissal_kind  fielder  \n",
       "0                 NaN      NaN  \n",
       "1                 NaN      NaN  \n",
       "2                 NaN      NaN  \n",
       "3                 NaN      NaN  \n",
       "4                 NaN      NaN  \n",
       "...               ...      ...  \n",
       "150455            NaN      NaN  \n",
       "150456        run out  NV Ojha  \n",
       "150457            NaN      NaN  \n",
       "150458            NaN      NaN  \n",
       "150459            NaN      NaN  \n",
       "\n",
       "[150460 rows x 21 columns]"
      ]
     },
     "execution_count": 2,
     "metadata": {},
     "output_type": "execute_result"
    }
   ],
   "source": [
    "#import data set\n",
    "df=pd.read_csv('Downloads/IPL_Dataset.csv')\n",
    "df"
   ]
  },
  {
   "cell_type": "code",
   "execution_count": 3,
   "id": "986d3dfa",
   "metadata": {},
   "outputs": [
    {
     "data": {
      "text/html": [
       "<div>\n",
       "<style scoped>\n",
       "    .dataframe tbody tr th:only-of-type {\n",
       "        vertical-align: middle;\n",
       "    }\n",
       "\n",
       "    .dataframe tbody tr th {\n",
       "        vertical-align: top;\n",
       "    }\n",
       "\n",
       "    .dataframe thead th {\n",
       "        text-align: right;\n",
       "    }\n",
       "</style>\n",
       "<table border=\"1\" class=\"dataframe\">\n",
       "  <thead>\n",
       "    <tr style=\"text-align: right;\">\n",
       "      <th></th>\n",
       "      <th>match_id</th>\n",
       "      <th>inning</th>\n",
       "      <th>batting_team</th>\n",
       "      <th>bowling_team</th>\n",
       "      <th>over</th>\n",
       "      <th>ball</th>\n",
       "      <th>batsman</th>\n",
       "      <th>non_striker</th>\n",
       "      <th>bowler</th>\n",
       "      <th>is_super_over</th>\n",
       "      <th>...</th>\n",
       "      <th>bye_runs</th>\n",
       "      <th>legbye_runs</th>\n",
       "      <th>noball_runs</th>\n",
       "      <th>penalty_runs</th>\n",
       "      <th>batsman_runs</th>\n",
       "      <th>extra_runs</th>\n",
       "      <th>total_runs</th>\n",
       "      <th>player_dismissed</th>\n",
       "      <th>dismissal_kind</th>\n",
       "      <th>fielder</th>\n",
       "    </tr>\n",
       "  </thead>\n",
       "  <tbody>\n",
       "    <tr>\n",
       "      <th>0</th>\n",
       "      <td>1</td>\n",
       "      <td>1</td>\n",
       "      <td>Sunrisers Hyderabad</td>\n",
       "      <td>Royal Challengers Bangalore</td>\n",
       "      <td>1</td>\n",
       "      <td>1</td>\n",
       "      <td>DA Warner</td>\n",
       "      <td>S Dhawan</td>\n",
       "      <td>TS Mills</td>\n",
       "      <td>0</td>\n",
       "      <td>...</td>\n",
       "      <td>0</td>\n",
       "      <td>0</td>\n",
       "      <td>0</td>\n",
       "      <td>0</td>\n",
       "      <td>0</td>\n",
       "      <td>0</td>\n",
       "      <td>0</td>\n",
       "      <td>NaN</td>\n",
       "      <td>NaN</td>\n",
       "      <td>NaN</td>\n",
       "    </tr>\n",
       "    <tr>\n",
       "      <th>1</th>\n",
       "      <td>1</td>\n",
       "      <td>1</td>\n",
       "      <td>Sunrisers Hyderabad</td>\n",
       "      <td>Royal Challengers Bangalore</td>\n",
       "      <td>1</td>\n",
       "      <td>2</td>\n",
       "      <td>DA Warner</td>\n",
       "      <td>S Dhawan</td>\n",
       "      <td>TS Mills</td>\n",
       "      <td>0</td>\n",
       "      <td>...</td>\n",
       "      <td>0</td>\n",
       "      <td>0</td>\n",
       "      <td>0</td>\n",
       "      <td>0</td>\n",
       "      <td>0</td>\n",
       "      <td>0</td>\n",
       "      <td>0</td>\n",
       "      <td>NaN</td>\n",
       "      <td>NaN</td>\n",
       "      <td>NaN</td>\n",
       "    </tr>\n",
       "    <tr>\n",
       "      <th>2</th>\n",
       "      <td>1</td>\n",
       "      <td>1</td>\n",
       "      <td>Sunrisers Hyderabad</td>\n",
       "      <td>Royal Challengers Bangalore</td>\n",
       "      <td>1</td>\n",
       "      <td>3</td>\n",
       "      <td>DA Warner</td>\n",
       "      <td>S Dhawan</td>\n",
       "      <td>TS Mills</td>\n",
       "      <td>0</td>\n",
       "      <td>...</td>\n",
       "      <td>0</td>\n",
       "      <td>0</td>\n",
       "      <td>0</td>\n",
       "      <td>0</td>\n",
       "      <td>4</td>\n",
       "      <td>0</td>\n",
       "      <td>4</td>\n",
       "      <td>NaN</td>\n",
       "      <td>NaN</td>\n",
       "      <td>NaN</td>\n",
       "    </tr>\n",
       "    <tr>\n",
       "      <th>3</th>\n",
       "      <td>1</td>\n",
       "      <td>1</td>\n",
       "      <td>Sunrisers Hyderabad</td>\n",
       "      <td>Royal Challengers Bangalore</td>\n",
       "      <td>1</td>\n",
       "      <td>4</td>\n",
       "      <td>DA Warner</td>\n",
       "      <td>S Dhawan</td>\n",
       "      <td>TS Mills</td>\n",
       "      <td>0</td>\n",
       "      <td>...</td>\n",
       "      <td>0</td>\n",
       "      <td>0</td>\n",
       "      <td>0</td>\n",
       "      <td>0</td>\n",
       "      <td>0</td>\n",
       "      <td>0</td>\n",
       "      <td>0</td>\n",
       "      <td>NaN</td>\n",
       "      <td>NaN</td>\n",
       "      <td>NaN</td>\n",
       "    </tr>\n",
       "    <tr>\n",
       "      <th>4</th>\n",
       "      <td>1</td>\n",
       "      <td>1</td>\n",
       "      <td>Sunrisers Hyderabad</td>\n",
       "      <td>Royal Challengers Bangalore</td>\n",
       "      <td>1</td>\n",
       "      <td>5</td>\n",
       "      <td>DA Warner</td>\n",
       "      <td>S Dhawan</td>\n",
       "      <td>TS Mills</td>\n",
       "      <td>0</td>\n",
       "      <td>...</td>\n",
       "      <td>0</td>\n",
       "      <td>0</td>\n",
       "      <td>0</td>\n",
       "      <td>0</td>\n",
       "      <td>0</td>\n",
       "      <td>2</td>\n",
       "      <td>2</td>\n",
       "      <td>NaN</td>\n",
       "      <td>NaN</td>\n",
       "      <td>NaN</td>\n",
       "    </tr>\n",
       "  </tbody>\n",
       "</table>\n",
       "<p>5 rows × 21 columns</p>\n",
       "</div>"
      ],
      "text/plain": [
       "   match_id  inning         batting_team                 bowling_team  over  \\\n",
       "0         1       1  Sunrisers Hyderabad  Royal Challengers Bangalore     1   \n",
       "1         1       1  Sunrisers Hyderabad  Royal Challengers Bangalore     1   \n",
       "2         1       1  Sunrisers Hyderabad  Royal Challengers Bangalore     1   \n",
       "3         1       1  Sunrisers Hyderabad  Royal Challengers Bangalore     1   \n",
       "4         1       1  Sunrisers Hyderabad  Royal Challengers Bangalore     1   \n",
       "\n",
       "   ball    batsman non_striker    bowler  is_super_over  ...  bye_runs  \\\n",
       "0     1  DA Warner    S Dhawan  TS Mills              0  ...         0   \n",
       "1     2  DA Warner    S Dhawan  TS Mills              0  ...         0   \n",
       "2     3  DA Warner    S Dhawan  TS Mills              0  ...         0   \n",
       "3     4  DA Warner    S Dhawan  TS Mills              0  ...         0   \n",
       "4     5  DA Warner    S Dhawan  TS Mills              0  ...         0   \n",
       "\n",
       "   legbye_runs  noball_runs  penalty_runs  batsman_runs  extra_runs  \\\n",
       "0            0            0             0             0           0   \n",
       "1            0            0             0             0           0   \n",
       "2            0            0             0             4           0   \n",
       "3            0            0             0             0           0   \n",
       "4            0            0             0             0           2   \n",
       "\n",
       "   total_runs  player_dismissed dismissal_kind fielder  \n",
       "0           0               NaN            NaN     NaN  \n",
       "1           0               NaN            NaN     NaN  \n",
       "2           4               NaN            NaN     NaN  \n",
       "3           0               NaN            NaN     NaN  \n",
       "4           2               NaN            NaN     NaN  \n",
       "\n",
       "[5 rows x 21 columns]"
      ]
     },
     "execution_count": 3,
     "metadata": {},
     "output_type": "execute_result"
    }
   ],
   "source": [
    "df.head()"
   ]
  },
  {
   "cell_type": "code",
   "execution_count": 4,
   "id": "7305ee86",
   "metadata": {},
   "outputs": [
    {
     "data": {
      "text/plain": [
       "(150460, 21)"
      ]
     },
     "execution_count": 4,
     "metadata": {},
     "output_type": "execute_result"
    }
   ],
   "source": [
    "df.shape"
   ]
  },
  {
   "cell_type": "code",
   "execution_count": 5,
   "id": "81eb4796",
   "metadata": {},
   "outputs": [
    {
     "data": {
      "text/plain": [
       "Index(['match_id', 'inning', 'batting_team', 'bowling_team', 'over', 'ball',\n",
       "       'batsman', 'non_striker', 'bowler', 'is_super_over', 'wide_runs',\n",
       "       'bye_runs', 'legbye_runs', 'noball_runs', 'penalty_runs',\n",
       "       'batsman_runs', 'extra_runs', 'total_runs', 'player_dismissed',\n",
       "       'dismissal_kind', 'fielder'],\n",
       "      dtype='object')"
      ]
     },
     "execution_count": 5,
     "metadata": {},
     "output_type": "execute_result"
    }
   ],
   "source": [
    "df.columns"
   ]
  },
  {
   "cell_type": "code",
   "execution_count": 6,
   "id": "29c65f9b",
   "metadata": {},
   "outputs": [
    {
     "data": {
      "text/plain": [
       "match_id             int64\n",
       "inning               int64\n",
       "batting_team        object\n",
       "bowling_team        object\n",
       "over                 int64\n",
       "ball                 int64\n",
       "batsman             object\n",
       "non_striker         object\n",
       "bowler              object\n",
       "is_super_over        int64\n",
       "wide_runs            int64\n",
       "bye_runs             int64\n",
       "legbye_runs          int64\n",
       "noball_runs          int64\n",
       "penalty_runs         int64\n",
       "batsman_runs         int64\n",
       "extra_runs           int64\n",
       "total_runs           int64\n",
       "player_dismissed    object\n",
       "dismissal_kind      object\n",
       "fielder             object\n",
       "dtype: object"
      ]
     },
     "execution_count": 6,
     "metadata": {},
     "output_type": "execute_result"
    }
   ],
   "source": [
    "df.dtypes"
   ]
  },
  {
   "cell_type": "markdown",
   "id": "17ce0d2d",
   "metadata": {},
   "source": [
    "# Data Cleaning"
   ]
  },
  {
   "cell_type": "code",
   "execution_count": 7,
   "id": "2f7a8625",
   "metadata": {},
   "outputs": [
    {
     "name": "stdout",
     "output_type": "stream",
     "text": [
      "<class 'pandas.core.frame.DataFrame'>\n",
      "RangeIndex: 150460 entries, 0 to 150459\n",
      "Data columns (total 21 columns):\n",
      " #   Column            Non-Null Count   Dtype \n",
      "---  ------            --------------   ----- \n",
      " 0   match_id          150460 non-null  int64 \n",
      " 1   inning            150460 non-null  int64 \n",
      " 2   batting_team      150460 non-null  object\n",
      " 3   bowling_team      150460 non-null  object\n",
      " 4   over              150460 non-null  int64 \n",
      " 5   ball              150460 non-null  int64 \n",
      " 6   batsman           150460 non-null  object\n",
      " 7   non_striker       150460 non-null  object\n",
      " 8   bowler            150460 non-null  object\n",
      " 9   is_super_over     150460 non-null  int64 \n",
      " 10  wide_runs         150460 non-null  int64 \n",
      " 11  bye_runs          150460 non-null  int64 \n",
      " 12  legbye_runs       150460 non-null  int64 \n",
      " 13  noball_runs       150460 non-null  int64 \n",
      " 14  penalty_runs      150460 non-null  int64 \n",
      " 15  batsman_runs      150460 non-null  int64 \n",
      " 16  extra_runs        150460 non-null  int64 \n",
      " 17  total_runs        150460 non-null  int64 \n",
      " 18  player_dismissed  7438 non-null    object\n",
      " 19  dismissal_kind    7438 non-null    object\n",
      " 20  fielder           5369 non-null    object\n",
      "dtypes: int64(13), object(8)\n",
      "memory usage: 24.1+ MB\n"
     ]
    }
   ],
   "source": [
    "df.info()"
   ]
  },
  {
   "cell_type": "code",
   "execution_count": 8,
   "id": "ed570d6e",
   "metadata": {},
   "outputs": [
    {
     "data": {
      "text/plain": [
       "match_id                 0\n",
       "inning                   0\n",
       "batting_team             0\n",
       "bowling_team             0\n",
       "over                     0\n",
       "ball                     0\n",
       "batsman                  0\n",
       "non_striker              0\n",
       "bowler                   0\n",
       "is_super_over            0\n",
       "wide_runs                0\n",
       "bye_runs                 0\n",
       "legbye_runs              0\n",
       "noball_runs              0\n",
       "penalty_runs             0\n",
       "batsman_runs             0\n",
       "extra_runs               0\n",
       "total_runs               0\n",
       "player_dismissed    143022\n",
       "dismissal_kind      143022\n",
       "fielder             145091\n",
       "dtype: int64"
      ]
     },
     "execution_count": 8,
     "metadata": {},
     "output_type": "execute_result"
    }
   ],
   "source": [
    "#sum of null values\n",
    "df.isna().sum()"
   ]
  },
  {
   "cell_type": "code",
   "execution_count": 9,
   "id": "4b9a3840",
   "metadata": {},
   "outputs": [],
   "source": [
    "#replace null values\n",
    "df.fillna({'player_dismissed':'no player dismissed'},inplace=True)\n",
    "df.fillna({'dismissal_kind':'no player dismissed'},inplace=True)\n",
    "df.fillna({'fielder':'no fielder'},inplace=True)"
   ]
  },
  {
   "cell_type": "code",
   "execution_count": 10,
   "id": "97deb08c",
   "metadata": {},
   "outputs": [
    {
     "data": {
      "text/plain": [
       "match_id            0\n",
       "inning              0\n",
       "batting_team        0\n",
       "bowling_team        0\n",
       "over                0\n",
       "ball                0\n",
       "batsman             0\n",
       "non_striker         0\n",
       "bowler              0\n",
       "is_super_over       0\n",
       "wide_runs           0\n",
       "bye_runs            0\n",
       "legbye_runs         0\n",
       "noball_runs         0\n",
       "penalty_runs        0\n",
       "batsman_runs        0\n",
       "extra_runs          0\n",
       "total_runs          0\n",
       "player_dismissed    0\n",
       "dismissal_kind      0\n",
       "fielder             0\n",
       "dtype: int64"
      ]
     },
     "execution_count": 10,
     "metadata": {},
     "output_type": "execute_result"
    }
   ],
   "source": [
    "df.isna().sum()"
   ]
  },
  {
   "cell_type": "code",
   "execution_count": 10,
   "id": "7edc2bea",
   "metadata": {},
   "outputs": [
    {
     "data": {
      "text/plain": [
       "array(['Sunrisers Hyderabad', 'Royal Challengers Bangalore',\n",
       "       'Mumbai Indians', 'Rising Pune Supergiant', 'Gujarat Lions',\n",
       "       'Kolkata Knight Riders', 'Kings XI Punjab', 'Delhi Daredevils',\n",
       "       'Chennai Super Kings', 'Rajasthan Royals', 'Deccan Chargers',\n",
       "       'Kochi Tuskers Kerala', 'Pune Warriors', 'Rising Pune Supergiants'],\n",
       "      dtype=object)"
      ]
     },
     "execution_count": 10,
     "metadata": {},
     "output_type": "execute_result"
    }
   ],
   "source": [
    "df['batting_team'].unique()"
   ]
  },
  {
   "cell_type": "code",
   "execution_count": 11,
   "id": "ce5d3350",
   "metadata": {},
   "outputs": [
    {
     "data": {
      "text/plain": [
       "array(['Royal Challengers Bangalore', 'Sunrisers Hyderabad',\n",
       "       'Rising Pune Supergiant', 'Mumbai Indians',\n",
       "       'Kolkata Knight Riders', 'Gujarat Lions', 'Kings XI Punjab',\n",
       "       'Delhi Daredevils', 'Chennai Super Kings', 'Rajasthan Royals',\n",
       "       'Deccan Chargers', 'Kochi Tuskers Kerala', 'Pune Warriors',\n",
       "       'Rising Pune Supergiants'], dtype=object)"
      ]
     },
     "execution_count": 11,
     "metadata": {},
     "output_type": "execute_result"
    }
   ],
   "source": [
    "df['bowling_team'].unique()"
   ]
  },
  {
   "cell_type": "code",
   "execution_count": 12,
   "id": "39f586ab",
   "metadata": {},
   "outputs": [],
   "source": [
    "df.replace('Rising Pune Supergiants','Rising Pune Supergiant',inplace=True)"
   ]
  },
  {
   "cell_type": "code",
   "execution_count": 13,
   "id": "749a09dc",
   "metadata": {},
   "outputs": [
    {
     "data": {
      "text/plain": [
       "array(['Sunrisers Hyderabad', 'Royal Challengers Bangalore',\n",
       "       'Mumbai Indians', 'Rising Pune Supergiant', 'Gujarat Lions',\n",
       "       'Kolkata Knight Riders', 'Kings XI Punjab', 'Delhi Daredevils',\n",
       "       'Chennai Super Kings', 'Rajasthan Royals', 'Deccan Chargers',\n",
       "       'Kochi Tuskers Kerala', 'Pune Warriors'], dtype=object)"
      ]
     },
     "execution_count": 13,
     "metadata": {},
     "output_type": "execute_result"
    }
   ],
   "source": [
    "df['batting_team'].unique()"
   ]
  },
  {
   "cell_type": "markdown",
   "id": "8669249c",
   "metadata": {},
   "source": [
    "# Descriptive Analysis"
   ]
  },
  {
   "cell_type": "code",
   "execution_count": 14,
   "id": "92a18f80",
   "metadata": {},
   "outputs": [
    {
     "data": {
      "text/html": [
       "<div>\n",
       "<style scoped>\n",
       "    .dataframe tbody tr th:only-of-type {\n",
       "        vertical-align: middle;\n",
       "    }\n",
       "\n",
       "    .dataframe tbody tr th {\n",
       "        vertical-align: top;\n",
       "    }\n",
       "\n",
       "    .dataframe thead th {\n",
       "        text-align: right;\n",
       "    }\n",
       "</style>\n",
       "<table border=\"1\" class=\"dataframe\">\n",
       "  <thead>\n",
       "    <tr style=\"text-align: right;\">\n",
       "      <th></th>\n",
       "      <th>count</th>\n",
       "      <th>mean</th>\n",
       "      <th>std</th>\n",
       "      <th>min</th>\n",
       "      <th>25%</th>\n",
       "      <th>50%</th>\n",
       "      <th>75%</th>\n",
       "      <th>max</th>\n",
       "    </tr>\n",
       "  </thead>\n",
       "  <tbody>\n",
       "    <tr>\n",
       "      <th>match_id</th>\n",
       "      <td>150460.0</td>\n",
       "      <td>318.281317</td>\n",
       "      <td>182.955531</td>\n",
       "      <td>1.0</td>\n",
       "      <td>161.0</td>\n",
       "      <td>319.0</td>\n",
       "      <td>476.0</td>\n",
       "      <td>636.0</td>\n",
       "    </tr>\n",
       "    <tr>\n",
       "      <th>inning</th>\n",
       "      <td>150460.0</td>\n",
       "      <td>1.482188</td>\n",
       "      <td>0.501768</td>\n",
       "      <td>1.0</td>\n",
       "      <td>1.0</td>\n",
       "      <td>1.0</td>\n",
       "      <td>2.0</td>\n",
       "      <td>4.0</td>\n",
       "    </tr>\n",
       "    <tr>\n",
       "      <th>over</th>\n",
       "      <td>150460.0</td>\n",
       "      <td>10.142649</td>\n",
       "      <td>5.674338</td>\n",
       "      <td>1.0</td>\n",
       "      <td>5.0</td>\n",
       "      <td>10.0</td>\n",
       "      <td>15.0</td>\n",
       "      <td>20.0</td>\n",
       "    </tr>\n",
       "    <tr>\n",
       "      <th>ball</th>\n",
       "      <td>150460.0</td>\n",
       "      <td>3.616483</td>\n",
       "      <td>1.807698</td>\n",
       "      <td>1.0</td>\n",
       "      <td>2.0</td>\n",
       "      <td>4.0</td>\n",
       "      <td>5.0</td>\n",
       "      <td>9.0</td>\n",
       "    </tr>\n",
       "    <tr>\n",
       "      <th>is_super_over</th>\n",
       "      <td>150460.0</td>\n",
       "      <td>0.000538</td>\n",
       "      <td>0.023196</td>\n",
       "      <td>0.0</td>\n",
       "      <td>0.0</td>\n",
       "      <td>0.0</td>\n",
       "      <td>0.0</td>\n",
       "      <td>1.0</td>\n",
       "    </tr>\n",
       "    <tr>\n",
       "      <th>wide_runs</th>\n",
       "      <td>150460.0</td>\n",
       "      <td>0.037498</td>\n",
       "      <td>0.257398</td>\n",
       "      <td>0.0</td>\n",
       "      <td>0.0</td>\n",
       "      <td>0.0</td>\n",
       "      <td>0.0</td>\n",
       "      <td>5.0</td>\n",
       "    </tr>\n",
       "    <tr>\n",
       "      <th>bye_runs</th>\n",
       "      <td>150460.0</td>\n",
       "      <td>0.004885</td>\n",
       "      <td>0.114234</td>\n",
       "      <td>0.0</td>\n",
       "      <td>0.0</td>\n",
       "      <td>0.0</td>\n",
       "      <td>0.0</td>\n",
       "      <td>4.0</td>\n",
       "    </tr>\n",
       "    <tr>\n",
       "      <th>legbye_runs</th>\n",
       "      <td>150460.0</td>\n",
       "      <td>0.022232</td>\n",
       "      <td>0.200104</td>\n",
       "      <td>0.0</td>\n",
       "      <td>0.0</td>\n",
       "      <td>0.0</td>\n",
       "      <td>0.0</td>\n",
       "      <td>5.0</td>\n",
       "    </tr>\n",
       "    <tr>\n",
       "      <th>noball_runs</th>\n",
       "      <td>150460.0</td>\n",
       "      <td>0.004340</td>\n",
       "      <td>0.072652</td>\n",
       "      <td>0.0</td>\n",
       "      <td>0.0</td>\n",
       "      <td>0.0</td>\n",
       "      <td>0.0</td>\n",
       "      <td>5.0</td>\n",
       "    </tr>\n",
       "    <tr>\n",
       "      <th>penalty_runs</th>\n",
       "      <td>150460.0</td>\n",
       "      <td>0.000066</td>\n",
       "      <td>0.018229</td>\n",
       "      <td>0.0</td>\n",
       "      <td>0.0</td>\n",
       "      <td>0.0</td>\n",
       "      <td>0.0</td>\n",
       "      <td>5.0</td>\n",
       "    </tr>\n",
       "    <tr>\n",
       "      <th>batsman_runs</th>\n",
       "      <td>150460.0</td>\n",
       "      <td>1.222445</td>\n",
       "      <td>1.594509</td>\n",
       "      <td>0.0</td>\n",
       "      <td>0.0</td>\n",
       "      <td>1.0</td>\n",
       "      <td>1.0</td>\n",
       "      <td>6.0</td>\n",
       "    </tr>\n",
       "    <tr>\n",
       "      <th>extra_runs</th>\n",
       "      <td>150460.0</td>\n",
       "      <td>0.069022</td>\n",
       "      <td>0.349667</td>\n",
       "      <td>0.0</td>\n",
       "      <td>0.0</td>\n",
       "      <td>0.0</td>\n",
       "      <td>0.0</td>\n",
       "      <td>7.0</td>\n",
       "    </tr>\n",
       "    <tr>\n",
       "      <th>total_runs</th>\n",
       "      <td>150460.0</td>\n",
       "      <td>1.291466</td>\n",
       "      <td>1.583240</td>\n",
       "      <td>0.0</td>\n",
       "      <td>0.0</td>\n",
       "      <td>1.0</td>\n",
       "      <td>1.0</td>\n",
       "      <td>7.0</td>\n",
       "    </tr>\n",
       "  </tbody>\n",
       "</table>\n",
       "</div>"
      ],
      "text/plain": [
       "                  count        mean         std  min    25%    50%    75%  \\\n",
       "match_id       150460.0  318.281317  182.955531  1.0  161.0  319.0  476.0   \n",
       "inning         150460.0    1.482188    0.501768  1.0    1.0    1.0    2.0   \n",
       "over           150460.0   10.142649    5.674338  1.0    5.0   10.0   15.0   \n",
       "ball           150460.0    3.616483    1.807698  1.0    2.0    4.0    5.0   \n",
       "is_super_over  150460.0    0.000538    0.023196  0.0    0.0    0.0    0.0   \n",
       "wide_runs      150460.0    0.037498    0.257398  0.0    0.0    0.0    0.0   \n",
       "bye_runs       150460.0    0.004885    0.114234  0.0    0.0    0.0    0.0   \n",
       "legbye_runs    150460.0    0.022232    0.200104  0.0    0.0    0.0    0.0   \n",
       "noball_runs    150460.0    0.004340    0.072652  0.0    0.0    0.0    0.0   \n",
       "penalty_runs   150460.0    0.000066    0.018229  0.0    0.0    0.0    0.0   \n",
       "batsman_runs   150460.0    1.222445    1.594509  0.0    0.0    1.0    1.0   \n",
       "extra_runs     150460.0    0.069022    0.349667  0.0    0.0    0.0    0.0   \n",
       "total_runs     150460.0    1.291466    1.583240  0.0    0.0    1.0    1.0   \n",
       "\n",
       "                 max  \n",
       "match_id       636.0  \n",
       "inning           4.0  \n",
       "over            20.0  \n",
       "ball             9.0  \n",
       "is_super_over    1.0  \n",
       "wide_runs        5.0  \n",
       "bye_runs         4.0  \n",
       "legbye_runs      5.0  \n",
       "noball_runs      5.0  \n",
       "penalty_runs     5.0  \n",
       "batsman_runs     6.0  \n",
       "extra_runs       7.0  \n",
       "total_runs       7.0  "
      ]
     },
     "execution_count": 14,
     "metadata": {},
     "output_type": "execute_result"
    }
   ],
   "source": [
    "df.describe().T"
   ]
  },
  {
   "cell_type": "code",
   "execution_count": 15,
   "id": "d5ea62ab",
   "metadata": {},
   "outputs": [
    {
     "data": {
      "text/plain": [
       "batsman\n",
       "V Kohli      3494\n",
       "G Gambhir    3433\n",
       "SK Raina     3369\n",
       "RG Sharma    3274\n",
       "S Dhawan     3005\n",
       "Name: count, dtype: int64"
      ]
     },
     "execution_count": 15,
     "metadata": {},
     "output_type": "execute_result"
    }
   ],
   "source": [
    "df['batsman'].value_counts().head()"
   ]
  },
  {
   "cell_type": "code",
   "execution_count": 16,
   "id": "2caeb087",
   "metadata": {},
   "outputs": [
    {
     "data": {
      "text/plain": [
       "bowler\n",
       "Harbhajan Singh    2989\n",
       "A Mishra           2703\n",
       "SL Malinga         2694\n",
       "P Kumar            2637\n",
       "PP Chawla          2594\n",
       "Name: count, dtype: int64"
      ]
     },
     "execution_count": 16,
     "metadata": {},
     "output_type": "execute_result"
    }
   ],
   "source": [
    "df['bowler'].value_counts().head()"
   ]
  },
  {
   "cell_type": "markdown",
   "id": "2359e6cf",
   "metadata": {},
   "source": [
    "1. What is the total number of runs scored by each batting team?"
   ]
  },
  {
   "cell_type": "code",
   "execution_count": 17,
   "id": "ade5ef93",
   "metadata": {},
   "outputs": [
    {
     "data": {
      "text/plain": [
       "batting_team\n",
       "Mumbai Indians                 24521\n",
       "Royal Challengers Bangalore    23436\n",
       "Kings XI Punjab                23068\n",
       "Kolkata Knight Riders          21965\n",
       "Delhi Daredevils               21953\n",
       "Chennai Super Kings            20899\n",
       "Rajasthan Royals               17703\n",
       "Sunrisers Hyderabad            11652\n",
       "Deccan Chargers                11463\n",
       "Pune Warriors                   6358\n",
       "Gujarat Lions                   4862\n",
       "Rising Pune Supergiant          4533\n",
       "Kochi Tuskers Kerala            1901\n",
       "Name: total_runs, dtype: int64"
      ]
     },
     "execution_count": 17,
     "metadata": {},
     "output_type": "execute_result"
    }
   ],
   "source": [
    "total_score=df.groupby('batting_team')['total_runs'].sum().sort_values(ascending=False)\n",
    "total_score"
   ]
  },
  {
   "cell_type": "code",
   "execution_count": 18,
   "id": "a76140f4",
   "metadata": {},
   "outputs": [
    {
     "data": {
      "text/plain": [
       "<Axes: ylabel='batting_team'>"
      ]
     },
     "execution_count": 18,
     "metadata": {},
     "output_type": "execute_result"
    },
    {
     "data": {
      "image/png": "[encoded data removed]",
      "text/plain": [
       "<Figure size 640x480 with 1 Axes>"
      ]
     },
     "metadata": {},
     "output_type": "display_data"
    }
   ],
   "source": [
    "#by visualizing\n",
    "df.groupby('batting_team')['total_runs'].sum().sort_values(ascending=False).plot(kind='barh')"
   ]
  },
  {
   "cell_type": "markdown",
   "id": "38dcf38f",
   "metadata": {},
   "source": [
    "From above analysis we can see that Mumbai Indians, Royal Challengers Bangalore and Kings XI Punjab are the highest run makers in total."
   ]
  },
  {
   "cell_type": "markdown",
   "id": "ab076405",
   "metadata": {},
   "source": [
    "2. How many wides have been bowled by each bowling team?"
   ]
  },
  {
   "cell_type": "code",
   "execution_count": 19,
   "id": "f24cb5fa",
   "metadata": {},
   "outputs": [
    {
     "data": {
      "text/plain": [
       "bowling_team\n",
       "Mumbai Indians                 786\n",
       "Royal Challengers Bangalore    725\n",
       "Kings XI Punjab                668\n",
       "Kolkata Knight Riders          658\n",
       "Delhi Daredevils               614\n",
       "Rajasthan Royals               586\n",
       "Chennai Super Kings            526\n",
       "Deccan Chargers                328\n",
       "Sunrisers Hyderabad            268\n",
       "Pune Warriors                  174\n",
       "Rising Pune Supergiant         146\n",
       "Gujarat Lions                  107\n",
       "Kochi Tuskers Kerala            56\n",
       "Name: wide_runs, dtype: int64"
      ]
     },
     "execution_count": 19,
     "metadata": {},
     "output_type": "execute_result"
    }
   ],
   "source": [
    "df.groupby('bowling_team')['wide_runs'].sum().sort_values(ascending=False)"
   ]
  },
  {
   "cell_type": "code",
   "execution_count": 20,
   "id": "3e60f605",
   "metadata": {},
   "outputs": [
    {
     "data": {
      "text/plain": [
       "<Axes: ylabel='bowling_team'>"
      ]
     },
     "execution_count": 20,
     "metadata": {},
     "output_type": "execute_result"
    },
    {
     "data": {
      "image/png": "[encoded data removed]",
      "text/plain": [
       "<Figure size 640x480 with 1 Axes>"
      ]
     },
     "metadata": {},
     "output_type": "display_data"
    }
   ],
   "source": [
    "#by visualizing\n",
    "df.groupby('bowling_team')['wide_runs'].sum().sort_values(ascending=False).plot(kind='barh') "
   ]
  },
  {
   "cell_type": "markdown",
   "id": "880e65e0",
   "metadata": {},
   "source": [
    "From above analysis we can see that Mumbai Indians, Royal Challengers Bangalore and Kings XI Punjab have given highest wide ball."
   ]
  },
  {
   "cell_type": "markdown",
   "id": "6b27c592",
   "metadata": {},
   "source": [
    "3. What is the average number of runs scored per inning by each team?"
   ]
  },
  {
   "cell_type": "code",
   "execution_count": 21,
   "id": "b2e3ad20",
   "metadata": {},
   "outputs": [
    {
     "data": {
      "text/plain": [
       "inning  batting_team               \n",
       "1       Chennai Super Kings            1.339207\n",
       "        Deccan Chargers                1.281250\n",
       "        Delhi Daredevils               1.257512\n",
       "        Gujarat Lions                  1.313441\n",
       "        Kings XI Punjab                1.304182\n",
       "        Kochi Tuskers Kerala           1.151826\n",
       "        Kolkata Knight Riders          1.279835\n",
       "        Mumbai Indians                 1.310780\n",
       "        Pune Warriors                  1.214461\n",
       "        Rajasthan Royals               1.275026\n",
       "        Rising Pune Supergiant         1.316875\n",
       "        Royal Challengers Bangalore    1.368046\n",
       "        Sunrisers Hyderabad            1.308332\n",
       "2       Chennai Super Kings            1.307128\n",
       "        Deccan Chargers                1.251465\n",
       "        Delhi Daredevils               1.293123\n",
       "        Gujarat Lions                  1.413210\n",
       "        Kings XI Punjab                1.317853\n",
       "        Kochi Tuskers Kerala           1.263456\n",
       "        Kolkata Knight Riders          1.269295\n",
       "        Mumbai Indians                 1.274842\n",
       "        Pune Warriors                  1.130217\n",
       "        Rajasthan Royals               1.267466\n",
       "        Rising Pune Supergiant         1.286500\n",
       "        Royal Challengers Bangalore    1.284413\n",
       "        Sunrisers Hyderabad            1.246616\n",
       "3       Chennai Super Kings            1.800000\n",
       "        Kings XI Punjab                2.142857\n",
       "        Kolkata Knight Riders          2.000000\n",
       "        Mumbai Indians                 2.200000\n",
       "        Royal Challengers Bangalore    2.500000\n",
       "        Sunrisers Hyderabad            2.857143\n",
       "4       Delhi Daredevils               1.833333\n",
       "        Gujarat Lions                  0.750000\n",
       "        Kings XI Punjab                2.500000\n",
       "        Rajasthan Royals               2.500000\n",
       "        Royal Challengers Bangalore    2.500000\n",
       "Name: total_runs, dtype: float64"
      ]
     },
     "execution_count": 21,
     "metadata": {},
     "output_type": "execute_result"
    }
   ],
   "source": [
    "df.groupby(['inning','batting_team'])['total_runs'].mean()"
   ]
  },
  {
   "cell_type": "markdown",
   "id": "d3d7bc51",
   "metadata": {},
   "source": [
    "4. Which batsman has scored the highest number of runs?"
   ]
  },
  {
   "cell_type": "code",
   "execution_count": 22,
   "id": "0bfbc23d",
   "metadata": {},
   "outputs": [
    {
     "data": {
      "text/plain": [
       "batsman\n",
       "SK Raina     4548\n",
       "V Kohli      4423\n",
       "RG Sharma    4207\n",
       "G Gambhir    4132\n",
       "DA Warner    4014\n",
       "Name: batsman_runs, dtype: int64"
      ]
     },
     "execution_count": 22,
     "metadata": {},
     "output_type": "execute_result"
    }
   ],
   "source": [
    "df.groupby('batsman')['batsman_runs'].sum().sort_values(ascending=False).head()"
   ]
  },
  {
   "cell_type": "code",
   "execution_count": 23,
   "id": "2be04cb4",
   "metadata": {},
   "outputs": [
    {
     "data": {
      "text/plain": [
       "<Axes: xlabel='batsman'>"
      ]
     },
     "execution_count": 23,
     "metadata": {},
     "output_type": "execute_result"
    },
    {
     "data": {
      "image/png": "[encoded data removed]",
      "text/plain": [
       "<Figure size 640x480 with 1 Axes>"
      ]
     },
     "metadata": {},
     "output_type": "display_data"
    }
   ],
   "source": [
    "#by visualizing\n",
    "df.groupby('batsman')['batsman_runs'].sum().sort_values(ascending=False).head().plot(kind='bar')"
   ]
  },
  {
   "cell_type": "markdown",
   "id": "69fa73c1",
   "metadata": {},
   "source": [
    "From above analysis we can see that the top 5 players are SK Raina, V Kholi, RG Sharma,G Gambhir and DA Warner."
   ]
  },
  {
   "cell_type": "markdown",
   "id": "bfb21b45",
   "metadata": {},
   "source": [
    "5. How many dismissals have occurred of each dismissal kind?"
   ]
  },
  {
   "cell_type": "code",
   "execution_count": 24,
   "id": "2e1561d1",
   "metadata": {},
   "outputs": [
    {
     "data": {
      "text/plain": [
       "dismissal_kind\n",
       "no player dismissed      143022\n",
       "caught                     4373\n",
       "bowled                     1382\n",
       "run out                     755\n",
       "lbw                         455\n",
       "stumped                     243\n",
       "caught and bowled           211\n",
       "retired hurt                  9\n",
       "hit wicket                    9\n",
       "obstructing the field         1\n",
       "Name: count, dtype: int64"
      ]
     },
     "execution_count": 24,
     "metadata": {},
     "output_type": "execute_result"
    }
   ],
   "source": [
    "dismissal_kind=df['dismissal_kind'].value_counts()\n",
    "dismissal_kind"
   ]
  },
  {
   "cell_type": "code",
   "execution_count": 25,
   "id": "7d228f4b",
   "metadata": {},
   "outputs": [
    {
     "data": {
      "text/plain": [
       "dismissal_kind\n",
       "caught                   4373\n",
       "bowled                   1382\n",
       "run out                   755\n",
       "lbw                       455\n",
       "stumped                   243\n",
       "caught and bowled         211\n",
       "retired hurt                9\n",
       "hit wicket                  9\n",
       "obstructing the field       1\n",
       "Name: count, dtype: int64"
      ]
     },
     "execution_count": 25,
     "metadata": {},
     "output_type": "execute_result"
    }
   ],
   "source": [
    "dismissal_df=dismissal_kind.drop('no player dismissed')\n",
    "dismissal_df"
   ]
  },
  {
   "cell_type": "markdown",
   "id": "fd87d337",
   "metadata": {},
   "source": [
    "6. What is the most common dismissal kind?"
   ]
  },
  {
   "cell_type": "code",
   "execution_count": 26,
   "id": "6f8fd132",
   "metadata": {},
   "outputs": [
    {
     "data": {
      "text/plain": [
       "<Axes: ylabel='count'>"
      ]
     },
     "execution_count": 26,
     "metadata": {},
     "output_type": "execute_result"
    },
    {
     "data": {
      "image/png": "[encoded data removed]",
      "text/plain": [
       "<Figure size 640x480 with 1 Axes>"
      ]
     },
     "metadata": {},
     "output_type": "display_data"
    }
   ],
   "source": [
    "dismissal_df.plot(kind='pie',autopct='%1.1f%%')"
   ]
  },
  {
   "cell_type": "markdown",
   "id": "3d0870a6",
   "metadata": {},
   "source": [
    "From above analysis we can see that most common dismissal kind is caught,bowled and runout."
   ]
  },
  {
   "cell_type": "markdown",
   "id": "1379e96a",
   "metadata": {},
   "source": [
    "7. What is the total runs scored by each over?"
   ]
  },
  {
   "cell_type": "code",
   "execution_count": 27,
   "id": "5b5013ef",
   "metadata": {},
   "outputs": [
    {
     "data": {
      "text/plain": [
       "over\n",
       "1      7733\n",
       "2      8993\n",
       "3      9852\n",
       "4     10207\n",
       "5     10227\n",
       "6     10397\n",
       "7      8413\n",
       "8      8966\n",
       "9      9247\n",
       "10     9047\n",
       "11     9456\n",
       "12     9694\n",
       "13     9713\n",
       "14     9900\n",
       "15    10240\n",
       "16    10397\n",
       "17    10817\n",
       "18    10899\n",
       "19    10469\n",
       "20     9647\n",
       "Name: total_runs, dtype: int64"
      ]
     },
     "execution_count": 27,
     "metadata": {},
     "output_type": "execute_result"
    }
   ],
   "source": [
    "df.groupby('over')['total_runs'].sum()"
   ]
  },
  {
   "cell_type": "code",
   "execution_count": 28,
   "id": "6cb55682",
   "metadata": {},
   "outputs": [
    {
     "data": {
      "text/plain": [
       "<Axes: xlabel='over'>"
      ]
     },
     "execution_count": 28,
     "metadata": {},
     "output_type": "execute_result"
    },
    {
     "data": {
      "image/png": "[encoded data removed]",
      "text/plain": [
       "<Figure size 640x480 with 1 Axes>"
      ]
     },
     "metadata": {},
     "output_type": "display_data"
    }
   ],
   "source": [
    "#by visualizing\n",
    "df.groupby('over')['total_runs'].sum().plot(kind='line')"
   ]
  },
  {
   "cell_type": "markdown",
   "id": "1bd05d4b",
   "metadata": {},
   "source": [
    "8. Which bowler has taken the most wickets?"
   ]
  },
  {
   "cell_type": "code",
   "execution_count": 30,
   "id": "a37d8e6d",
   "metadata": {},
   "outputs": [],
   "source": [
    "wicket=df[(df['dismissal_kind']=='caught')|(df['dismissal_kind']=='bowled')\n",
    "          |(df['dismissal_kind']=='run out')|(df['dismissal_kind']=='lbw')\n",
    "          |(df['dismissal_kind']=='stumped')|(df['dismissal_kind']=='caught and bowled')]"
   ]
  },
  {
   "cell_type": "code",
   "execution_count": 31,
   "id": "21deeb61",
   "metadata": {},
   "outputs": [
    {
     "data": {
      "text/plain": [
       "bowler\n",
       "SL Malinga         170\n",
       "A Mishra           142\n",
       "DJ Bravo           137\n",
       "Harbhajan Singh    135\n",
       "PP Chawla          133\n",
       "Name: count, dtype: int64"
      ]
     },
     "execution_count": 31,
     "metadata": {},
     "output_type": "execute_result"
    }
   ],
   "source": [
    "wicket['bowler'].value_counts().sort_values(ascending=False).head()"
   ]
  },
  {
   "cell_type": "code",
   "execution_count": 32,
   "id": "a7590153",
   "metadata": {},
   "outputs": [
    {
     "data": {
      "text/plain": [
       "<Axes: ylabel='count'>"
      ]
     },
     "execution_count": 32,
     "metadata": {},
     "output_type": "execute_result"
    },
    {
     "data": {
      "image/png": "[encoded data removed]",
      "text/plain": [
       "<Figure size 640x480 with 1 Axes>"
      ]
     },
     "metadata": {},
     "output_type": "display_data"
    }
   ],
   "source": [
    "#by visualizing\n",
    "wicket['bowler'].value_counts().sort_values(ascending=False).head().plot(kind='pie',autopct='%1.1f%%')"
   ]
  },
  {
   "cell_type": "markdown",
   "id": "762e0052",
   "metadata": {},
   "source": [
    "From above analysis we can see that top 5 bowlers are SL Malinga,A Mishra,DJ Bravo,Harbhajan Singh and PP Chawla."
   ]
  },
  {
   "cell_type": "markdown",
   "id": "0b7dba5d",
   "metadata": {},
   "source": [
    "9. How many super overs have been played in total?"
   ]
  },
  {
   "cell_type": "code",
   "execution_count": 33,
   "id": "c7485164",
   "metadata": {},
   "outputs": [
    {
     "data": {
      "text/plain": [
       "is_super_over\n",
       "0    150379\n",
       "1        81\n",
       "Name: count, dtype: int64"
      ]
     },
     "execution_count": 33,
     "metadata": {},
     "output_type": "execute_result"
    }
   ],
   "source": [
    "df['is_super_over'].value_counts()"
   ]
  },
  {
   "cell_type": "markdown",
   "id": "1a6c974f",
   "metadata": {},
   "source": [
    "From above analysis we can see tha total 81 super overs are played."
   ]
  },
  {
   "cell_type": "markdown",
   "id": "ef7fac6b",
   "metadata": {},
   "source": [
    "9. What is the average number of extras (wide runs, bye runs, legbye runs, noball runs, penalty runs) conceded per inning by each bowling team?"
   ]
  },
  {
   "cell_type": "code",
   "execution_count": 34,
   "id": "250d6b59",
   "metadata": {},
   "outputs": [
    {
     "data": {
      "text/plain": [
       "inning  bowling_team               \n",
       "1       Chennai Super Kings            0.066455\n",
       "        Deccan Chargers                0.073795\n",
       "        Delhi Daredevils               0.065691\n",
       "        Gujarat Lions                  0.045685\n",
       "        Kings XI Punjab                0.070014\n",
       "        Kochi Tuskers Kerala           0.067857\n",
       "        Kolkata Knight Riders          0.065322\n",
       "        Mumbai Indians                 0.079927\n",
       "        Pune Warriors                  0.063891\n",
       "        Rajasthan Royals               0.070624\n",
       "        Rising Pune Supergiant         0.057797\n",
       "        Royal Challengers Bangalore    0.074794\n",
       "        Sunrisers Hyderabad            0.062534\n",
       "2       Chennai Super Kings            0.062885\n",
       "        Deccan Chargers                0.072206\n",
       "        Delhi Daredevils               0.075162\n",
       "        Gujarat Lions                  0.062420\n",
       "        Kings XI Punjab                0.071388\n",
       "        Kochi Tuskers Kerala           0.068475\n",
       "        Kolkata Knight Riders          0.074196\n",
       "        Mumbai Indians                 0.067917\n",
       "        Pune Warriors                  0.057984\n",
       "        Rajasthan Royals               0.080129\n",
       "        Rising Pune Supergiant         0.066121\n",
       "        Royal Challengers Bangalore    0.070864\n",
       "        Sunrisers Hyderabad            0.049304\n",
       "3       Delhi Daredevils               0.000000\n",
       "        Gujarat Lions                  0.000000\n",
       "        Kings XI Punjab                0.000000\n",
       "        Rajasthan Royals               0.200000\n",
       "        Royal Challengers Bangalore    0.142857\n",
       "4       Chennai Super Kings            0.000000\n",
       "        Kings XI Punjab                0.250000\n",
       "        Kolkata Knight Riders          0.000000\n",
       "        Mumbai Indians                 0.500000\n",
       "        Royal Challengers Bangalore    0.000000\n",
       "        Sunrisers Hyderabad            0.000000\n",
       "Name: extra_runs, dtype: float64"
      ]
     },
     "execution_count": 34,
     "metadata": {},
     "output_type": "execute_result"
    }
   ],
   "source": [
    "df.groupby(['inning','bowling_team'])['extra_runs'].mean()"
   ]
  },
  {
   "cell_type": "code",
   "execution_count": 35,
   "id": "bc59bcce",
   "metadata": {},
   "outputs": [
    {
     "data": {
      "text/plain": [
       "<Axes: ylabel='inning'>"
      ]
     },
     "execution_count": 35,
     "metadata": {},
     "output_type": "execute_result"
    },
    {
     "data": {
      "image/png": "[encoded data removed]",
      "text/plain": [
       "<Figure size 640x480 with 1 Axes>"
      ]
     },
     "metadata": {},
     "output_type": "display_data"
    }
   ],
   "source": [
    "df.groupby('inning')['extra_runs'].mean().plot(kind='barh')"
   ]
  },
  {
   "cell_type": "markdown",
   "id": "495a3a66",
   "metadata": {},
   "source": [
    "11. How many runs have been scored by each batsman-bowler pair?"
   ]
  },
  {
   "cell_type": "code",
   "execution_count": 36,
   "id": "48ccbc16",
   "metadata": {},
   "outputs": [
    {
     "data": {
      "text/plain": [
       "batsman     bowler         \n",
       "V Kohli     A Mishra           156\n",
       "SK Raina    PP Chawla          153\n",
       "V Kohli     UT Yadav           144\n",
       "DA Warner   P Kumar            141\n",
       "SK Raina    Harbhajan Singh    138\n",
       "KA Pollard  A Mishra           137\n",
       "RG Sharma   PP Chawla          136\n",
       "V Kohli     R Ashwin           136\n",
       "            DJ Bravo           134\n",
       "G Gambhir   Z Khan             121\n",
       "Name: total_runs, dtype: int64"
      ]
     },
     "execution_count": 36,
     "metadata": {},
     "output_type": "execute_result"
    }
   ],
   "source": [
    "df.groupby(['batsman','bowler'])['total_runs'].sum().sort_values(ascending=False).head(10)"
   ]
  },
  {
   "cell_type": "markdown",
   "id": "80338147",
   "metadata": {},
   "source": [
    "12. How many matches have been played by each batting team?"
   ]
  },
  {
   "cell_type": "code",
   "execution_count": 37,
   "id": "1566be43",
   "metadata": {},
   "outputs": [
    {
     "data": {
      "text/plain": [
       "batting_team\n",
       "Mumbai Indians                 18943\n",
       "Royal Challengers Bangalore    17678\n",
       "Kings XI Punjab                17594\n",
       "Kolkata Knight Riders          17229\n",
       "Delhi Daredevils               17185\n",
       "Chennai Super Kings            15754\n",
       "Rajasthan Royals               13914\n",
       "Sunrisers Hyderabad             9058\n",
       "Deccan Chargers                 9034\n",
       "Pune Warriors                   5443\n",
       "Gujarat Lions                   3566\n",
       "Rising Pune Supergiant          3480\n",
       "Kochi Tuskers Kerala            1582\n",
       "Name: count, dtype: int64"
      ]
     },
     "execution_count": 37,
     "metadata": {},
     "output_type": "execute_result"
    }
   ],
   "source": [
    "df['batting_team'].value_counts()"
   ]
  },
  {
   "cell_type": "code",
   "execution_count": 38,
   "id": "4e6aa0a7",
   "metadata": {},
   "outputs": [
    {
     "data": {
      "text/plain": [
       "<Axes: ylabel='batting_team'>"
      ]
     },
     "execution_count": 38,
     "metadata": {},
     "output_type": "execute_result"
    },
    {
     "data": {
      "image/png": "[encoded data removed]",
      "text/plain": [
       "<Figure size 640x480 with 1 Axes>"
      ]
     },
     "metadata": {},
     "output_type": "display_data"
    }
   ],
   "source": [
    "df['batting_team'].value_counts().plot(kind='barh')"
   ]
  },
  {
   "cell_type": "markdown",
   "id": "054fbfc6",
   "metadata": {},
   "source": [
    "13. What is the average number of runs scored in each over?"
   ]
  },
  {
   "cell_type": "code",
   "execution_count": 39,
   "id": "63744727",
   "metadata": {},
   "outputs": [
    {
     "data": {
      "text/plain": [
       "over\n",
       "1     0.955635\n",
       "2     1.121601\n",
       "3     1.242057\n",
       "4     1.291698\n",
       "5     1.298832\n",
       "6     1.321933\n",
       "7     1.074869\n",
       "8     1.149635\n",
       "9     1.189325\n",
       "10    1.170981\n",
       "11    1.233177\n",
       "12    1.269347\n",
       "13    1.275509\n",
       "14    1.313694\n",
       "15    1.373206\n",
       "16    1.418031\n",
       "17    1.495300\n",
       "18    1.561685\n",
       "19    1.600031\n",
       "20    1.707736\n",
       "Name: total_runs, dtype: float64"
      ]
     },
     "execution_count": 39,
     "metadata": {},
     "output_type": "execute_result"
    }
   ],
   "source": [
    "df.groupby('over')['total_runs'].mean()"
   ]
  },
  {
   "cell_type": "code",
   "execution_count": 40,
   "id": "c3175ac1",
   "metadata": {},
   "outputs": [
    {
     "data": {
      "text/plain": [
       "<Axes: xlabel='over'>"
      ]
     },
     "execution_count": 40,
     "metadata": {},
     "output_type": "execute_result"
    },
    {
     "data": {
      "image/png": "[encoded data removed]",
      "text/plain": [
       "<Figure size 640x480 with 1 Axes>"
      ]
     },
     "metadata": {},
     "output_type": "display_data"
    }
   ],
   "source": [
    "df.groupby('over')['total_runs'].mean().plot(kind='line')"
   ]
  },
  {
   "cell_type": "markdown",
   "id": "ea3e2843",
   "metadata": {},
   "source": [
    "14. Which fielder has been involved in the most dismissals?"
   ]
  },
  {
   "cell_type": "code",
   "execution_count": 41,
   "id": "d54c4708",
   "metadata": {},
   "outputs": [
    {
     "data": {
      "text/plain": [
       "fielder\n",
       "no fielder        145091\n",
       "KD Karthik           127\n",
       "MS Dhoni             126\n",
       "RV Uthappa           115\n",
       "AB de Villiers       101\n",
       "                   ...  \n",
       "Sunny Singh            1\n",
       "R Ninan                1\n",
       "MD Mishra              1\n",
       "AA Bilakhia            1\n",
       "F Behardien            1\n",
       "Name: count, Length: 452, dtype: int64"
      ]
     },
     "execution_count": 41,
     "metadata": {},
     "output_type": "execute_result"
    }
   ],
   "source": [
    "fielder=df['fielder'].value_counts()\n",
    "fielder"
   ]
  },
  {
   "cell_type": "code",
   "execution_count": 42,
   "id": "b3bb60f9",
   "metadata": {},
   "outputs": [
    {
     "data": {
      "text/plain": [
       "fielder\n",
       "KD Karthik        127\n",
       "MS Dhoni          126\n",
       "RV Uthappa        115\n",
       "AB de Villiers    101\n",
       "SK Raina           96\n",
       "Name: count, dtype: int64"
      ]
     },
     "execution_count": 42,
     "metadata": {},
     "output_type": "execute_result"
    }
   ],
   "source": [
    "fielder_df=fielder.drop('no fielder').head()\n",
    "fielder_df"
   ]
  },
  {
   "cell_type": "markdown",
   "id": "49824dc2",
   "metadata": {},
   "source": [
    "From the above analysis we can see that KD Karthik have taken the most dismissals. "
   ]
  },
  {
   "cell_type": "markdown",
   "id": "a579da97",
   "metadata": {},
   "source": [
    "15. How does the number of runs scored vary with the over number?"
   ]
  },
  {
   "cell_type": "code",
   "execution_count": 43,
   "id": "f3ae07ce",
   "metadata": {},
   "outputs": [
    {
     "data": {
      "text/plain": [
       "Index(['match_id', 'inning', 'batting_team', 'bowling_team', 'over', 'ball',\n",
       "       'batsman', 'non_striker', 'bowler', 'is_super_over', 'wide_runs',\n",
       "       'bye_runs', 'legbye_runs', 'noball_runs', 'penalty_runs',\n",
       "       'batsman_runs', 'extra_runs', 'total_runs', 'player_dismissed',\n",
       "       'dismissal_kind', 'fielder'],\n",
       "      dtype='object')"
      ]
     },
     "execution_count": 43,
     "metadata": {},
     "output_type": "execute_result"
    }
   ],
   "source": [
    "df.columns"
   ]
  },
  {
   "cell_type": "code",
   "execution_count": 44,
   "id": "5bc6e5b2",
   "metadata": {},
   "outputs": [
    {
     "data": {
      "text/plain": [
       "<Axes: xlabel='over'>"
      ]
     },
     "execution_count": 44,
     "metadata": {},
     "output_type": "execute_result"
    },
    {
     "data": {
      "image/png": "[encoded data removed]",
      "text/plain": [
       "<Figure size 640x480 with 1 Axes>"
      ]
     },
     "metadata": {},
     "output_type": "display_data"
    }
   ],
   "source": [
    "runs_df=df.groupby('over')['total_runs'].sum().plot(kind='line')\n",
    "runs_df"
   ]
  },
  {
   "cell_type": "markdown",
   "id": "62f5cc0b",
   "metadata": {},
   "source": [
    "16. how is the relationship between the number of runs scored and the number of extras conceded?"
   ]
  },
  {
   "cell_type": "code",
   "execution_count": 45,
   "id": "c439f22e",
   "metadata": {},
   "outputs": [
    {
     "data": {
      "text/html": [
       "<div>\n",
       "<style scoped>\n",
       "    .dataframe tbody tr th:only-of-type {\n",
       "        vertical-align: middle;\n",
       "    }\n",
       "\n",
       "    .dataframe tbody tr th {\n",
       "        vertical-align: top;\n",
       "    }\n",
       "\n",
       "    .dataframe thead th {\n",
       "        text-align: right;\n",
       "    }\n",
       "</style>\n",
       "<table border=\"1\" class=\"dataframe\">\n",
       "  <thead>\n",
       "    <tr style=\"text-align: right;\">\n",
       "      <th></th>\n",
       "      <th>total_runs</th>\n",
       "      <th>extra_runs</th>\n",
       "    </tr>\n",
       "  </thead>\n",
       "  <tbody>\n",
       "    <tr>\n",
       "      <th>total_runs</th>\n",
       "      <td>1.000000</td>\n",
       "      <td>0.078085</td>\n",
       "    </tr>\n",
       "    <tr>\n",
       "      <th>extra_runs</th>\n",
       "      <td>0.078085</td>\n",
       "      <td>1.000000</td>\n",
       "    </tr>\n",
       "  </tbody>\n",
       "</table>\n",
       "</div>"
      ],
      "text/plain": [
       "            total_runs  extra_runs\n",
       "total_runs    1.000000    0.078085\n",
       "extra_runs    0.078085    1.000000"
      ]
     },
     "execution_count": 45,
     "metadata": {},
     "output_type": "execute_result"
    }
   ],
   "source": [
    "df[['total_runs','extra_runs']].corr()"
   ]
  },
  {
   "cell_type": "code",
   "execution_count": 46,
   "id": "dd69f4f3",
   "metadata": {},
   "outputs": [
    {
     "data": {
      "text/plain": [
       "<matplotlib.collections.PathCollection at 0x13855ed7650>"
      ]
     },
     "execution_count": 46,
     "metadata": {},
     "output_type": "execute_result"
    },
    {
     "data": {
      "image/png": "[encoded data removed]",
      "text/plain": [
       "<Figure size 640x480 with 1 Axes>"
      ]
     },
     "metadata": {},
     "output_type": "display_data"
    }
   ],
   "source": [
    "plt.scatter(df['total_runs'],df['extra_runs'])"
   ]
  },
  {
   "cell_type": "markdown",
   "id": "71c050b6",
   "metadata": {},
   "source": [
    "17. Which batting team has the highest average runs per match?"
   ]
  },
  {
   "cell_type": "code",
   "execution_count": 47,
   "id": "5c326bea",
   "metadata": {},
   "outputs": [
    {
     "data": {
      "text/plain": [
       "batting_team\n",
       "Gujarat Lions                  1.298093\n",
       "Royal Challengers Bangalore    1.258287\n",
       "Chennai Super Kings            1.258220\n",
       "Rising Pune Supergiant         1.244828\n",
       "Kings XI Punjab                1.240593\n",
       "Name: batsman_runs, dtype: float64"
      ]
     },
     "execution_count": 47,
     "metadata": {},
     "output_type": "execute_result"
    }
   ],
   "source": [
    "df.groupby('batting_team')['batsman_runs'].mean().sort_values(ascending=False).head()"
   ]
  },
  {
   "cell_type": "markdown",
   "id": "aa2fd528",
   "metadata": {},
   "source": [
    "18. What is the total runs scored by each batsman?"
   ]
  },
  {
   "cell_type": "code",
   "execution_count": 48,
   "id": "c399cd97",
   "metadata": {},
   "outputs": [
    {
     "data": {
      "text/plain": [
       "batsman\n",
       "SK Raina        4548\n",
       "V Kohli         4423\n",
       "RG Sharma       4207\n",
       "G Gambhir       4132\n",
       "DA Warner       4014\n",
       "                ... \n",
       "Abdur Razzak       0\n",
       "S Kaushik          0\n",
       "S Ladda            0\n",
       "U Kaul             0\n",
       "RR Bhatkal         0\n",
       "Name: batsman_runs, Length: 461, dtype: int64"
      ]
     },
     "execution_count": 48,
     "metadata": {},
     "output_type": "execute_result"
    }
   ],
   "source": [
    "df.groupby('batsman')['batsman_runs'].sum().sort_values(ascending=False)"
   ]
  }
 ],
 "metadata": {
  "kernelspec": {
   "display_name": "Python 3 (ipykernel)",
   "language": "python",
   "name": "python3"
  },
  "language_info": {
   "codemirror_mode": {
    "name": "ipython",
    "version": 3
   },
   "file_extension": ".py",
   "mimetype": "text/x-python",
   "name": "python",
   "nbconvert_exporter": "python",
   "pygments_lexer": "ipython3",
   "version": "3.11.5"
  }
 },
 "nbformat": 4,
 "nbformat_minor": 5
}
